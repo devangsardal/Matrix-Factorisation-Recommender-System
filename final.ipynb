{
 "cells": [
  {
   "cell_type": "code",
   "execution_count": 5,
   "metadata": {},
   "outputs": [],
   "source": [
    "import numpy as np\n",
    "import pandas as pd\n",
    "from collections import Counter\n",
    "from sklearn.model_selection import train_test_split\n",
    "from scipy import sparse"
   ]
  },
  {
   "cell_type": "code",
   "execution_count": 6,
   "metadata": {},
   "outputs": [
    {
     "name": "stdout",
     "output_type": "stream",
     "text": [
      "   user_id  anime_id  rating\n",
      "0        1        20      -1\n",
      "1        1        24      -1\n",
      "2        1        79      -1\n",
      "3        1       226      -1\n",
      "4        1       241      -1\n"
     ]
    }
   ],
   "source": [
    "anime_ratings_df = pd.read_csv(\"rating.csv\")\n",
    "anime_ratings_df.shape\n",
    "print(anime_ratings_df.head())"
   ]
  },
  {
   "cell_type": "code",
   "execution_count": 7,
   "metadata": {},
   "outputs": [
    {
     "name": "stdout",
     "output_type": "stream",
     "text": [
      "(6337241, 3)\n"
     ]
    },
    {
     "data": {
      "text/html": [
       "<div>\n",
       "<style scoped>\n",
       "    .dataframe tbody tr th:only-of-type {\n",
       "        vertical-align: middle;\n",
       "    }\n",
       "\n",
       "    .dataframe tbody tr th {\n",
       "        vertical-align: top;\n",
       "    }\n",
       "\n",
       "    .dataframe thead th {\n",
       "        text-align: right;\n",
       "    }\n",
       "</style>\n",
       "<table border=\"1\" class=\"dataframe\">\n",
       "  <thead>\n",
       "    <tr style=\"text-align: right;\">\n",
       "      <th></th>\n",
       "      <th>user_id</th>\n",
       "      <th>anime_id</th>\n",
       "      <th>rating</th>\n",
       "    </tr>\n",
       "  </thead>\n",
       "  <tbody>\n",
       "    <tr>\n",
       "      <th>0</th>\n",
       "      <td>1</td>\n",
       "      <td>8074</td>\n",
       "      <td>10</td>\n",
       "    </tr>\n",
       "    <tr>\n",
       "      <th>1</th>\n",
       "      <td>1</td>\n",
       "      <td>11617</td>\n",
       "      <td>10</td>\n",
       "    </tr>\n",
       "    <tr>\n",
       "      <th>2</th>\n",
       "      <td>1</td>\n",
       "      <td>11757</td>\n",
       "      <td>10</td>\n",
       "    </tr>\n",
       "    <tr>\n",
       "      <th>3</th>\n",
       "      <td>1</td>\n",
       "      <td>15451</td>\n",
       "      <td>10</td>\n",
       "    </tr>\n",
       "    <tr>\n",
       "      <th>4</th>\n",
       "      <td>2</td>\n",
       "      <td>11771</td>\n",
       "      <td>10</td>\n",
       "    </tr>\n",
       "  </tbody>\n",
       "</table>\n",
       "</div>"
      ],
      "text/plain": [
       "   user_id  anime_id  rating\n",
       "0        1      8074      10\n",
       "1        1     11617      10\n",
       "2        1     11757      10\n",
       "3        1     15451      10\n",
       "4        2     11771      10"
      ]
     },
     "execution_count": 7,
     "metadata": {},
     "output_type": "execute_result"
    }
   ],
   "source": [
    "anime_ratings = anime_ratings_df.loc[anime_ratings_df.rating != -1].reset_index()[['user_id','anime_id','rating']]\n",
    "print(anime_ratings.shape)\n",
    "anime_ratings.head()"
   ]
  },
  {
   "cell_type": "code",
   "execution_count": 8,
   "metadata": {},
   "outputs": [],
   "source": [
    "train_df, valid_df = train_test_split(anime_ratings, test_size=0.2)"
   ]
  },
  {
   "cell_type": "code",
   "execution_count": 9,
   "metadata": {},
   "outputs": [],
   "source": [
    "#resetting indices to avoid indexing errors in the future\n",
    "train_df = train_df.reset_index()[['user_id', 'anime_id', 'rating']]\n",
    "valid_df = valid_df.reset_index()[['user_id', 'anime_id', 'rating']]"
   ]
  },
  {
   "cell_type": "code",
   "execution_count": 10,
   "metadata": {},
   "outputs": [],
   "source": [
    "def col_encode(column):\n",
    "\tkeys = column.unique()\n",
    "\tkey_to_id = {key:idx for idx,key in enumerate(keys)}\n",
    "\treturn key_to_id , np.array([key_to_id[x] for x in column]) , len(keys)"
   ]
  },
  {
   "cell_type": "code",
   "execution_count": 11,
   "metadata": {},
   "outputs": [],
   "source": [
    "def df_encode(anime_df):\n",
    "    anime_ids, anime_df['anime_id'], num_anime = col_encode(anime_df['anime_id'])\n",
    "    user_ids, anime_df['user_id'], num_users = col_encode(anime_df['user_id'])\n",
    "    return anime_df, num_users, num_anime, user_ids, anime_ids\t"
   ]
  },
  {
   "cell_type": "code",
   "execution_count": 12,
   "metadata": {},
   "outputs": [
    {
     "name": "stdout",
     "output_type": "stream",
     "text": [
      "Number of users : 68834\n",
      "Number of anime : 9744\n"
     ]
    },
    {
     "data": {
      "text/html": [
       "<div>\n",
       "<style scoped>\n",
       "    .dataframe tbody tr th:only-of-type {\n",
       "        vertical-align: middle;\n",
       "    }\n",
       "\n",
       "    .dataframe tbody tr th {\n",
       "        vertical-align: top;\n",
       "    }\n",
       "\n",
       "    .dataframe thead th {\n",
       "        text-align: right;\n",
       "    }\n",
       "</style>\n",
       "<table border=\"1\" class=\"dataframe\">\n",
       "  <thead>\n",
       "    <tr style=\"text-align: right;\">\n",
       "      <th></th>\n",
       "      <th>user_id</th>\n",
       "      <th>anime_id</th>\n",
       "      <th>rating</th>\n",
       "    </tr>\n",
       "  </thead>\n",
       "  <tbody>\n",
       "    <tr>\n",
       "      <th>0</th>\n",
       "      <td>0</td>\n",
       "      <td>0</td>\n",
       "      <td>6</td>\n",
       "    </tr>\n",
       "    <tr>\n",
       "      <th>1</th>\n",
       "      <td>1</td>\n",
       "      <td>1</td>\n",
       "      <td>10</td>\n",
       "    </tr>\n",
       "    <tr>\n",
       "      <th>2</th>\n",
       "      <td>2</td>\n",
       "      <td>2</td>\n",
       "      <td>5</td>\n",
       "    </tr>\n",
       "    <tr>\n",
       "      <th>3</th>\n",
       "      <td>3</td>\n",
       "      <td>3</td>\n",
       "      <td>8</td>\n",
       "    </tr>\n",
       "    <tr>\n",
       "      <th>4</th>\n",
       "      <td>4</td>\n",
       "      <td>4</td>\n",
       "      <td>6</td>\n",
       "    </tr>\n",
       "  </tbody>\n",
       "</table>\n",
       "</div>"
      ],
      "text/plain": [
       "   user_id  anime_id  rating\n",
       "0        0         0       6\n",
       "1        1         1      10\n",
       "2        2         2       5\n",
       "3        3         3       8\n",
       "4        4         4       6"
      ]
     },
     "execution_count": 12,
     "metadata": {},
     "output_type": "execute_result"
    }
   ],
   "source": [
    "anime_df, num_users, num_anime, user_ids, anime_ids = df_encode(train_df)\n",
    "print(\"Number of users :\", num_users)\n",
    "print(\"Number of anime :\", num_anime)\n",
    "anime_df.head()"
   ]
  },
  {
   "cell_type": "code",
   "execution_count": 13,
   "metadata": {},
   "outputs": [],
   "source": [
    "def create_embeddings(n, K):\n",
    "    \"\"\"\n",
    "    Creates a random numpy matrix of shape n, K with uniform values in (0, 11/K)\n",
    "    n: number of items/users\n",
    "    K: number of factors in the embedding \n",
    "    \"\"\"\n",
    "    return 11*np.random.random((n, K)) / K"
   ]
  },
  {
   "cell_type": "code",
   "execution_count": 14,
   "metadata": {},
   "outputs": [],
   "source": [
    "def create_sparse_matrix(df, rows, cols, column_name=\"rating\"):\n",
    "    \"\"\" Returns a sparse utility matrix\"\"\" \n",
    "    return sparse.csc_matrix((df[column_name].values,(df['user_id'].values, df['anime_id'].values)),shape=(rows, cols))\n"
   ]
  },
  {
   "cell_type": "code",
   "execution_count": 15,
   "metadata": {},
   "outputs": [],
   "source": [
    "anime_df, num_users, num_anime, user_ids, anime_ids = df_encode(train_df)\n",
    "Y = create_sparse_matrix(anime_df, num_users, num_anime)"
   ]
  },
  {
   "cell_type": "code",
   "execution_count": 17,
   "metadata": {},
   "outputs": [],
   "source": [
    "def predict(df, emb_user, emb_anime):\n",
    "    \"\"\" This function computes df[\"prediction\"] without doing (U*V^T).\n",
    "    \n",
    "    Computes df[\"prediction\"] by using elementwise multiplication of the corresponding embeddings and then \n",
    "    sum to get the prediction u_i*v_j. This avoids creating the dense matrix U*V^T.\n",
    "    \"\"\"\n",
    "    df['prediction'] = np.sum(np.multiply(emb_anime[df['anime_id']],emb_user[df['user_id']]), axis=1)\n",
    "    return df\n",
    "\n",
    "lmbda = 0.0002\n",
    "\n",
    "def cost(df, emb_user, emb_anime):\n",
    "    \"\"\" Computes mean square error\"\"\"\n",
    "    Y = create_sparse_matrix(df, emb_user.shape[0], emb_anime.shape[0])\n",
    "    predicted = create_sparse_matrix(predict(df, emb_user, emb_anime), emb_user.shape[0], emb_anime.shape[0], 'prediction')\n",
    "    return np.sum((Y-predicted).power(2))/df.shape[0] "
   ]
  },
  {
   "cell_type": "code",
   "execution_count": 18,
   "metadata": {},
   "outputs": [],
   "source": [
    "def gradient(df, emb_user, emb_anime):\n",
    "    \"\"\" Computes the gradient for user and anime embeddings\"\"\"\n",
    "    Y = create_sparse_matrix(df, emb_user.shape[0], emb_anime.shape[0])\n",
    "    predicted = create_sparse_matrix(predict(df, emb_user, emb_anime), emb_user.shape[0], emb_anime.shape[0], 'prediction')\n",
    "    delta =(Y-predicted)\n",
    "    grad_user = (-2/df.shape[0])*(delta*emb_anime) + 2*lmbda*emb_user\n",
    "    grad_anime = (-2/df.shape[0])*(delta.T*emb_user) + 2*lmbda*emb_anime\n",
    "    return grad_user, grad_anime\n",
    "\n",
    "def gradient_descent(df, emb_user, emb_anime, iterations=2000, learning_rate=0.01, df_val=None):\n",
    "    \"\"\" \n",
    "    Computes gradient descent with momentum (0.9) for given number of iterations.\n",
    "    emb_user: the trained user embedding\n",
    "    emb_anime: the trained anime embedding\n",
    "    \"\"\"\n",
    "    Y = create_sparse_matrix(df, emb_user.shape[0], emb_anime.shape[0])\n",
    "    beta = 0.9\n",
    "    grad_user, grad_anime = gradient(df, emb_user, emb_anime)\n",
    "    v_user = grad_user\n",
    "    v_anime = grad_anime\n",
    "    for i in range(iterations):\n",
    "        grad_user, grad_anime = gradient(df, emb_user, emb_anime)\n",
    "        v_user = beta*v_user + (1-beta)*grad_user\n",
    "        v_anime = beta*v_anime + (1-beta)*grad_anime\n",
    "        emb_user = emb_user - learning_rate*v_user\n",
    "        emb_anime = emb_anime - learning_rate*v_anime\n",
    "        if(not (i+1)%50):\n",
    "            print(\"\\niteration\", i+1, \":\")\n",
    "            print(\"train mse:\",  cost(df, emb_user, emb_anime))\n",
    "            if df_val is not None:\n",
    "                print(\"validation mse:\",  cost(df_val, emb_user, emb_anime))\n",
    "    return emb_user, emb_anime"
   ]
  },
  {
   "cell_type": "code",
   "execution_count": 19,
   "metadata": {},
   "outputs": [
    {
     "name": "stdout",
     "output_type": "stream",
     "text": [
      "\n",
      "iteration 50 :\n",
      "train mse: 16.132174529438302\n",
      "\n",
      "iteration 100 :\n",
      "train mse: 12.354839178924347\n",
      "\n",
      "iteration 150 :\n",
      "train mse: 10.54834393673786\n",
      "\n",
      "iteration 200 :\n",
      "train mse: 9.452455176153958\n",
      "\n",
      "iteration 250 :\n",
      "train mse: 8.704316499880049\n",
      "\n",
      "iteration 300 :\n",
      "train mse: 8.155274616799367\n",
      "\n",
      "iteration 350 :\n",
      "train mse: 7.732255577066909\n",
      "\n",
      "iteration 400 :\n",
      "train mse: 7.394909768619028\n",
      "\n",
      "iteration 450 :\n",
      "train mse: 7.1190709983588425\n",
      "\n",
      "iteration 500 :\n",
      "train mse: 6.889366091327939\n",
      "\n",
      "iteration 550 :\n",
      "train mse: 6.69554590593503\n",
      "\n",
      "iteration 600 :\n",
      "train mse: 6.530512892104944\n",
      "\n",
      "iteration 650 :\n",
      "train mse: 6.389192695260049\n",
      "\n",
      "iteration 700 :\n",
      "train mse: 6.267855685078232\n",
      "\n",
      "iteration 750 :\n",
      "train mse: 6.163692089635733\n",
      "\n",
      "iteration 800 :\n",
      "train mse: 6.074536812066462\n"
     ]
    }
   ],
   "source": [
    "emb_user = create_embeddings(num_users, 3)\n",
    "emb_anime = create_embeddings(num_anime, 3)\n",
    "emb_user, emb_anime = gradient_descent(anime_df, emb_user, emb_anime, iterations=800, learning_rate=1)\n"
   ]
  },
  {
   "cell_type": "code",
   "execution_count": 23,
   "metadata": {},
   "outputs": [
    {
     "name": "stdout",
     "output_type": "stream",
     "text": [
      "before encoding: (747662, 4)\n",
      "after encoding: (747662, 4)\n",
      "6.074536812066462 12.085476817486196\n"
     ]
    },
    {
     "data": {
      "text/html": [
       "<div>\n",
       "<style scoped>\n",
       "    .dataframe tbody tr th:only-of-type {\n",
       "        vertical-align: middle;\n",
       "    }\n",
       "\n",
       "    .dataframe tbody tr th {\n",
       "        vertical-align: top;\n",
       "    }\n",
       "\n",
       "    .dataframe thead th {\n",
       "        text-align: right;\n",
       "    }\n",
       "</style>\n",
       "<table border=\"1\" class=\"dataframe\">\n",
       "  <thead>\n",
       "    <tr style=\"text-align: right;\">\n",
       "      <th></th>\n",
       "      <th>user_id</th>\n",
       "      <th>anime_id</th>\n",
       "      <th>rating</th>\n",
       "      <th>prediction</th>\n",
       "    </tr>\n",
       "  </thead>\n",
       "  <tbody>\n",
       "    <tr>\n",
       "      <th>114</th>\n",
       "      <td>41659</td>\n",
       "      <td>20</td>\n",
       "      <td>8</td>\n",
       "      <td>5.361126</td>\n",
       "    </tr>\n",
       "    <tr>\n",
       "      <th>115</th>\n",
       "      <td>16015</td>\n",
       "      <td>245</td>\n",
       "      <td>9</td>\n",
       "      <td>8.689482</td>\n",
       "    </tr>\n",
       "    <tr>\n",
       "      <th>116</th>\n",
       "      <td>61578</td>\n",
       "      <td>6574</td>\n",
       "      <td>7</td>\n",
       "      <td>6.488153</td>\n",
       "    </tr>\n",
       "    <tr>\n",
       "      <th>118</th>\n",
       "      <td>65961</td>\n",
       "      <td>9074</td>\n",
       "      <td>9</td>\n",
       "      <td>5.182881</td>\n",
       "    </tr>\n",
       "    <tr>\n",
       "      <th>120</th>\n",
       "      <td>33984</td>\n",
       "      <td>6547</td>\n",
       "      <td>8</td>\n",
       "      <td>2.551282</td>\n",
       "    </tr>\n",
       "  </tbody>\n",
       "</table>\n",
       "</div>"
      ],
      "text/plain": [
       "     user_id  anime_id  rating  prediction\n",
       "114    41659        20       8    5.361126\n",
       "115    16015       245       9    8.689482\n",
       "116    61578      6574       7    6.488153\n",
       "118    65961      9074       9    5.182881\n",
       "120    33984      6547       8    2.551282"
      ]
     },
     "execution_count": 23,
     "metadata": {},
     "output_type": "execute_result"
    }
   ],
   "source": [
    "def encode_new_data(valid_df, user_ids, anime_ids):\n",
    "    \"\"\" Encodes valid_df with the same encoding as train_df.\n",
    "    \"\"\"\n",
    "    df_val_chosen = valid_df['anime_id'].isin(anime_ids.keys()) & valid_df['user_id'].isin(user_ids.keys())\n",
    "    valid_df = valid_df[df_val_chosen]\n",
    "    valid_df['anime_id'] =  np.array([anime_ids[x] for x in valid_df['anime_id']])\n",
    "    valid_df['user_id'] = np.array([user_ids[x] for x in valid_df['user_id']])\n",
    "    return valid_df\n",
    "\n",
    "print(\"before encoding:\", valid_df.shape)\n",
    "valid_df = encode_new_data(valid_df, user_ids, anime_ids)\n",
    "print(\"after encoding:\", valid_df.shape)\n",
    "\n",
    "train_mse = cost(train_df, emb_user, emb_anime)\n",
    "val_mse = cost(valid_df, emb_user, emb_anime)\n",
    "print(train_mse, val_mse)\n",
    "\n",
    "valid_df[70:80].head()"
   ]
  },
  {
   "cell_type": "code",
   "execution_count": null,
   "metadata": {},
   "outputs": [],
   "source": []
  }
 ],
 "metadata": {
  "kernelspec": {
   "display_name": "Python 3.9.2 64-bit",
   "language": "python",
   "name": "python3"
  },
  "language_info": {
   "codemirror_mode": {
    "name": "ipython",
    "version": 3
   },
   "file_extension": ".py",
   "mimetype": "text/x-python",
   "name": "python",
   "nbconvert_exporter": "python",
   "pygments_lexer": "ipython3",
   "version": "3.9.2"
  },
  "orig_nbformat": 4,
  "vscode": {
   "interpreter": {
    "hash": "ffc2027ec5c4e1e7bf0cc4c671e9815a4925d6b4475beed90881ca3bf2cd41bc"
   }
  }
 },
 "nbformat": 4,
 "nbformat_minor": 2
}
